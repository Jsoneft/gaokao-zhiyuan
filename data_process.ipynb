{
 "cells": [
  {
   "cell_type": "code",
   "execution_count": 1,
   "id": "e6ce0114",
   "metadata": {},
   "outputs": [],
   "source": [
    "import pandas as pd\n",
    "import numpy as np\n",
    "\n",
    "\n",
    "df = pd.read_excel(\"21-24各省份录取数据(含专业组代码).xlsx\", header=[0, 1])\n",
    "df.columns = ['{}_{}'.format(str(a), str(b)) if str(a) != 'nan' else str(b) for a, b in df.columns]"
   ]
  },
  {
   "cell_type": "code",
   "execution_count": 8,
   "id": "c0b61a29",
   "metadata": {},
   "outputs": [
    {
     "data": {
      "text/html": [
       "<div>\n",
       "<style scoped>\n",
       "    .dataframe tbody tr th:only-of-type {\n",
       "        vertical-align: middle;\n",
       "    }\n",
       "\n",
       "    .dataframe tbody tr th {\n",
       "        vertical-align: top;\n",
       "    }\n",
       "\n",
       "    .dataframe thead th {\n",
       "        text-align: right;\n",
       "    }\n",
       "</style>\n",
       "<table border=\"1\" class=\"dataframe\">\n",
       "  <thead>\n",
       "    <tr style=\"text-align: right;\">\n",
       "      <th></th>\n",
       "      <th>2024年计划数据_id</th>\n",
       "      <th>2024年计划数据_生源地</th>\n",
       "      <th>2024年计划数据_批次</th>\n",
       "      <th>2024年计划数据_科类</th>\n",
       "      <th>2024年计划数据_选科限制</th>\n",
       "      <th>2024年计划数据_院校代码</th>\n",
       "      <th>2024年计划数据_专业组代码</th>\n",
       "      <th>2024年计划数据_院校名称</th>\n",
       "      <th>2024年计划数据_专业代码</th>\n",
       "      <th>2024年计划数据_专业名称</th>\n",
       "      <th>...</th>\n",
       "      <th>2021年录取数据_最低分</th>\n",
       "      <th>2021年录取数据_最低位次</th>\n",
       "      <th>院校基础信息_所在省</th>\n",
       "      <th>院校基础信息_城市</th>\n",
       "      <th>院校基础信息_本科/专科</th>\n",
       "      <th>院校基础信息_隶属单位</th>\n",
       "      <th>院校基础信息_院校标签</th>\n",
       "      <th>院校基础信息_类型</th>\n",
       "      <th>院校基础信息_公私性质</th>\n",
       "      <th>院校基础信息_院校水平</th>\n",
       "    </tr>\n",
       "  </thead>\n",
       "  <tbody>\n",
       "    <tr>\n",
       "      <th>0</th>\n",
       "      <td>7956360</td>\n",
       "      <td>黑龙江</td>\n",
       "      <td>本科批</td>\n",
       "      <td>物理</td>\n",
       "      <td>化</td>\n",
       "      <td>1001015</td>\n",
       "      <td>15</td>\n",
       "      <td>北京大学</td>\n",
       "      <td>30</td>\n",
       "      <td>工科试验班类</td>\n",
       "      <td>...</td>\n",
       "      <td>680</td>\n",
       "      <td>60</td>\n",
       "      <td>北京</td>\n",
       "      <td>北京海淀区</td>\n",
       "      <td>本科</td>\n",
       "      <td>教育部</td>\n",
       "      <td>综合,985,211,双一流,国家重点,保研,研究生院,C9,五院四系,省部共建,101计划...</td>\n",
       "      <td>综合</td>\n",
       "      <td>公办</td>\n",
       "      <td>世界一流大学</td>\n",
       "    </tr>\n",
       "  </tbody>\n",
       "</table>\n",
       "<p>1 rows × 38 columns</p>\n",
       "</div>"
      ],
      "text/plain": [
       "   2024年计划数据_id 2024年计划数据_生源地 2024年计划数据_批次 2024年计划数据_科类 2024年计划数据_选科限制  \\\n",
       "0       7956360           黑龙江          本科批           物理              化   \n",
       "\n",
       "  2024年计划数据_院校代码 2024年计划数据_专业组代码 2024年计划数据_院校名称 2024年计划数据_专业代码 2024年计划数据_专业名称  \\\n",
       "0        1001015              15           北京大学             30         工科试验班类   \n",
       "\n",
       "   ... 2021年录取数据_最低分 2021年录取数据_最低位次 院校基础信息_所在省 院校基础信息_城市 院校基础信息_本科/专科  \\\n",
       "0  ...           680             60         北京     北京海淀区           本科   \n",
       "\n",
       "   院校基础信息_隶属单位                                        院校基础信息_院校标签  院校基础信息_类型  \\\n",
       "0          教育部  综合,985,211,双一流,国家重点,保研,研究生院,C9,五院四系,省部共建,101计划...         综合   \n",
       "\n",
       "   院校基础信息_公私性质  院校基础信息_院校水平  \n",
       "0           公办       世界一流大学  \n",
       "\n",
       "[1 rows x 38 columns]"
      ]
     },
     "execution_count": 8,
     "metadata": {},
     "output_type": "execute_result"
    }
   ],
   "source": [
    "df"
   ]
  },
  {
   "cell_type": "code",
   "execution_count": 9,
   "id": "e1179fca",
   "metadata": {},
   "outputs": [
    {
     "name": "stdout",
     "output_type": "stream",
     "text": [
      "Index(['id', '生源地', '2024年计划数据_批次', '2024年计划数据_科类', '2024年计划数据_选科限制',\n",
      "       '2024年计划数据_院校代码', '2024年计划数据_专业组代码', '2024年计划数据_院校名称', '2024年计划数据_专业代码',\n",
      "       '2024年计划数据_专业名称', '2024年计划数据_专业备注', '2024年计划数据_学制', '2024年计划数据_学费',\n",
      "       '2024年计划数据_计划数', '2024年计划数据_新增专业', '2024年录取数据_录取最低分',\n",
      "       '2024年录取数据_录取最低位次', '2024年录取数据_专业组最低分', '2024年录取数据_专业组最低位次',\n",
      "       '2023年录取数据_专业组最低分', '2023年录取数据_专业组最低位次', '2023年录取数据_计划数',\n",
      "       '2023年录取数据_最低分', '2023年录取数据_最低位次', '2022年录取数据_计划数', '2022年录取数据_最低分',\n",
      "       '2022年录取数据_最低位次', '2021年录取数据_计划数', '2021年录取数据_最低分', '2021年录取数据_最低位次',\n",
      "       '院校基础信息_所在省', '院校基础信息_城市', '院校基础信息_本科/专科', '院校基础信息_隶属单位', '院校基础信息_院校标签',\n",
      "       '院校基础信息_类型', '院校基础信息_公私性质', '院校基础信息_院校水平'],\n",
      "      dtype='object')\n"
     ]
    }
   ],
   "source": [
    "import re\n",
    "\n",
    "def smart_rename(col):\n",
    "    # 只保留“id”或“生源地”\n",
    "    if re.search(r'id$', col) or '生源地' in col:\n",
    "        if 'id' == col or '生源地' == col:\n",
    "            return col\n",
    "        # 取最后一个下划线后的内容\n",
    "        return col.split('_')[-1]\n",
    "    return col\n",
    "\n",
    "# 应用重命名\n",
    "new_columns = [smart_rename(col) for col in df.columns]\n",
    "df.columns = new_columns\n",
    "print(df.columns)"
   ]
  },
  {
   "cell_type": "code",
   "execution_count": 20,
   "id": "be41c400",
   "metadata": {},
   "outputs": [
    {
     "name": "stdout",
     "output_type": "stream",
     "text": [
      "Index([    nan,    '不限',     '化',   '物,化',     '物',     '史',     '政',     '生',\n",
      "           '地',   '化与生',   '化和生', '物,化,生',   '化与物',   '化且生',   '物,生',   '政,史',\n",
      "         '政与地',   '政和地',   '物,地', '政,史,地',   '史,政',   '化,生',   '史,地', '史,政,地',\n",
      "         '化与地', '物,化,政',   '政且地',   '化和地',   '地与政',   '生与地',   '物,政',   '生与政',\n",
      "         '化,地',   '生,地', '物,化,技', '物,化,地',   '生和政',   '生和地', '史,地,政',   '政,地',\n",
      "         '生且地',   '地,物',     '历', '物,生,政',   '生,史',   '政,历'],\n",
      "      dtype='object', name='2024年计划数据_选科限制')\n"
     ]
    }
   ],
   "source": [
    "# 统计“2024年计划数据_选科限制”各label数量\n",
    "label_counts = df['2024年计划数据_选科限制'].value_counts(dropna=False)\n",
    "print(label_counts.keys())"
   ]
  },
  {
   "cell_type": "code",
   "execution_count": 23,
   "id": "5eb7f83a",
   "metadata": {},
   "outputs": [
    {
     "name": "stdout",
     "output_type": "stream",
     "text": [
      "包含 物, 化, 生 的选科限制及其bit表示:\n",
      "      2024年计划数据_选科限制  选科限制_bit\n",
      "11934          物,化,生         7\n",
      "11935          物,化,生         7\n",
      "11936          物,化,生         7\n",
      "24073          物,化,生         7\n",
      "25824          物,化,生         7\n",
      "\n",
      "包含 政, 史, 地 的选科限制及其bit表示:\n",
      "       2024年计划数据_选科限制  选科限制_bit\n",
      "9019            史,地,政        56\n",
      "98510           政,史,地        56\n",
      "98511           政,史,地        56\n",
      "273566          政,史,地        56\n",
      "354017          史,政,地        56\n",
      "\n",
      "不限 的选科限制及其bit表示:\n",
      "      2024年计划数据_选科限制  选科限制_bit\n",
      "11934          物,化,生         7\n",
      "11935          物,化,生         7\n",
      "11936          物,化,生         7\n",
      "24073          物,化,生         7\n",
      "25824          物,化,生         7\n",
      "\n",
      "包含 政, 史, 地 的选科限制及其bit表示:\n",
      "       2024年计划数据_选科限制  选科限制_bit\n",
      "9019            史,地,政        56\n",
      "98510           政,史,地        56\n",
      "98511           政,史,地        56\n",
      "273566          政,史,地        56\n",
      "354017          史,政,地        56\n",
      "\n",
      "不限 的选科限制及其bit表示:\n",
      "   2024年计划数据_选科限制  选科限制_bit\n",
      "16             不限         0\n",
      "17             不限         0\n",
      "18             不限         0\n",
      "19             不限         0\n",
      "20             不限         0\n",
      "\n",
      "NaN (空值) 的选科限制及其bit表示:\n",
      "   2024年计划数据_选科限制  选科限制_bit\n",
      "45            NaN         0\n",
      "46            NaN         0\n",
      "47            NaN         0\n",
      "48            NaN         0\n",
      "49            NaN         0\n",
      "\n",
      "选科限制_bit 值计数:\n",
      "选科限制_bit\n",
      "0     364197\n",
      "2     150696\n",
      "3      36586\n",
      "1      14090\n",
      "16      4361\n",
      "8       4157\n",
      "6       3067\n",
      "4       2662\n",
      "32      2625\n",
      "7        914\n",
      "40       201\n",
      "5        189\n",
      "24       169\n",
      "56        64\n",
      "33        50\n",
      "34        28\n",
      "48        22\n",
      "11        14\n",
      "36         9\n",
      "12         5\n",
      "9          5\n",
      "35         2\n",
      "67         2\n",
      "13         1\n",
      "20         1\n",
      "Name: count, dtype: int64\n",
      "   2024年计划数据_选科限制  选科限制_bit\n",
      "16             不限         0\n",
      "17             不限         0\n",
      "18             不限         0\n",
      "19             不限         0\n",
      "20             不限         0\n",
      "\n",
      "NaN (空值) 的选科限制及其bit表示:\n",
      "   2024年计划数据_选科限制  选科限制_bit\n",
      "45            NaN         0\n",
      "46            NaN         0\n",
      "47            NaN         0\n",
      "48            NaN         0\n",
      "49            NaN         0\n",
      "\n",
      "选科限制_bit 值计数:\n",
      "选科限制_bit\n",
      "0     364197\n",
      "2     150696\n",
      "3      36586\n",
      "1      14090\n",
      "16      4361\n",
      "8       4157\n",
      "6       3067\n",
      "4       2662\n",
      "32      2625\n",
      "7        914\n",
      "40       201\n",
      "5        189\n",
      "24       169\n",
      "56        64\n",
      "33        50\n",
      "34        28\n",
      "48        22\n",
      "11        14\n",
      "36         9\n",
      "12         5\n",
      "9          5\n",
      "35         2\n",
      "67         2\n",
      "13         1\n",
      "20         1\n",
      "Name: count, dtype: int64\n"
     ]
    }
   ],
   "source": [
    "# 将“2024年计划数据_选科限制”列转换为bit表示\n",
    "# 使用 & 位运算，可以获取可选科目\n",
    "def map_subject_to_bit(subject_str):\n",
    "    subject_map = {\n",
    "        \"物\": 1,  # 物理\n",
    "        \"化\": 2,  # 化学\n",
    "        \"生\": 4,  # 生物\n",
    "        \"政\": 8,  # 政治\n",
    "        \"史\": 16, # 历史\n",
    "        \"地\": 32, # 地理\n",
    "        \"技\": 64, # 技术\n",
    "        \"不限\": 0 # 不限\n",
    "    }\n",
    "    if pd.isna(subject_str) or subject_str == \"NaN\":\n",
    "        return 0 # 或者根据需求返回特定的值，比如 -1 或者 None\n",
    "    \n",
    "    # 处理特殊组合，例如 \"化与生\", \"化和生\", \"化且生\"\n",
    "    subject_str = subject_str.replace(\"与\", \",\").replace(\"和\", \",\").replace(\"且\", \",\").replace(\"历\", \"史\")\n",
    "\n",
    "    bits = 0\n",
    "    subjects = subject_str.split(',')\n",
    "    for sub in subjects:\n",
    "        sub = sub.strip()\n",
    "        if sub in subject_map:\n",
    "            bits |= subject_map[sub]\n",
    "    return bits\n",
    "\n",
    "# 应用到DataFrame\n",
    "df['选科限制_bit'] = df['2024年计划数据_选科限制'].apply(map_subject_to_bit)\n",
    "\n",
    "# 打印包含\"物\", \"化\", \"生\"的行的选科限制和转换后的bit值\n",
    "print(\"包含 物, 化, 生 的选科限制及其bit表示:\")\n",
    "print(df[df['2024年计划数据_选科限制'].astype(str).str.contains('物') & \n",
    "         df['2024年计划数据_选科限制'].astype(str).str.contains('化') & \n",
    "         df['2024年计划数据_选科限制'].astype(str).str.contains('生')]\n",
    "[['2024年计划数据_选科限制', '选科限制_bit']].head())\n",
    "\n",
    "# 打印包含\"政\", \"史\", \"地\"的行的选科限制和转换后的bit值\n",
    "print(\"\\n包含 政, 史, 地 的选科限制及其bit表示:\")\n",
    "print(df[df['2024年计划数据_选科限制'].astype(str).str.contains('政') & \n",
    "         df['2024年计划数据_选科限制'].astype(str).str.contains('史') & \n",
    "         df['2024年计划数据_选科限制'].astype(str).str.contains('地')]\n",
    "[['2024年计划数据_选科限制', '选科限制_bit']].head())\n",
    "\n",
    "# 打印\"不限\"的选科限制和转换后的bit值\n",
    "print(\"\\n不限 的选科限制及其bit表示:\")\n",
    "print(df[df['2024年计划数据_选科限制'] == '不限'][['2024年计划数据_选科限制', '选科限制_bit']].head())\n",
    "\n",
    "# 打印 NaN (空值) 的选科限制和转换后的bit值\n",
    "print(\"\\nNaN (空值) 的选科限制及其bit表示:\")\n",
    "print(df[df['2024年计划数据_选科限制'].isna()][['2024年计划数据_选科限制', '选科限制_bit']].head())\n",
    "\n",
    "# 显示转换后 '选科限制_bit' 的值计数，以验证转换\n",
    "print(\"\\n选科限制_bit 值计数:\")\n",
    "print(df['选科限制_bit'].value_counts())"
   ]
  },
  {
   "cell_type": "code",
   "execution_count": 85,
   "id": "90bfc9f6",
   "metadata": {},
   "outputs": [
    {
     "name": "stdout",
     "output_type": "stream",
     "text": [
      "          id 生源地 2024年计划数据_批次 2024年计划数据_科类 2024年计划数据_选科限制 2024年计划数据_院校代码  \\\n",
      "406  8064481  湖北          本科批           物理             不限         A00304   \n",
      "407  8064482  湖北          本科批           物理             不限         A00304   \n",
      "408  8064483  湖北          本科批           物理             不限         A00304   \n",
      "409  8064484  湖北          本科批           物理             不限         A00304   \n",
      "410  8064485  湖北          本科批           物理             不限         A00304   \n",
      "\n",
      "    2024年计划数据_专业组代码 2024年计划数据_院校名称 2024年计划数据_专业代码 2024年计划数据_专业名称  ...  \\\n",
      "406              04           清华大学             08        社会科学试验班  ...   \n",
      "407              04           清华大学             09         理科试验班类  ...   \n",
      "408              04           清华大学             10         理科试验班类  ...   \n",
      "409              04           清华大学             11            法学类  ...   \n",
      "410              04           清华大学             12            建筑类  ...   \n",
      "\n",
      "    2021年录取数据_最低位次 院校基础信息_所在省 院校基础信息_城市 院校基础信息_本科/专科 院校基础信息_隶属单位  \\\n",
      "406            NaN         北京     北京海淀区           本科         教育部   \n",
      "407            NaN         北京     北京海淀区           本科         教育部   \n",
      "408            NaN         北京     北京海淀区           本科         教育部   \n",
      "409            NaN         北京     北京海淀区           本科         教育部   \n",
      "410            NaN         北京     北京海淀区           本科         教育部   \n",
      "\n",
      "                                           院校基础信息_院校标签  院校基础信息_类型  \\\n",
      "406  综合,985,211,双一流,国家重点,保研,研究生院,C9,建筑老八校,省部共建,101计...         综合   \n",
      "407  综合,985,211,双一流,国家重点,保研,研究生院,C9,建筑老八校,省部共建,101计...         综合   \n",
      "408  综合,985,211,双一流,国家重点,保研,研究生院,C9,建筑老八校,省部共建,101计...         综合   \n",
      "409  综合,985,211,双一流,国家重点,保研,研究生院,C9,建筑老八校,省部共建,101计...         综合   \n",
      "410  综合,985,211,双一流,国家重点,保研,研究生院,C9,建筑老八校,省部共建,101计...         综合   \n",
      "\n",
      "     院校基础信息_公私性质  院校基础信息_院校水平  选科限制_bit  \n",
      "406           公办       世界一流大学         0  \n",
      "407           公办       世界一流大学         0  \n",
      "408           公办       世界一流大学         0  \n",
      "409           公办       世界一流大学         0  \n",
      "410           公办       世界一流大学         0  \n",
      "\n",
      "[5 rows x 39 columns]\n"
     ]
    }
   ],
   "source": [
    "# 选取湖北省的数据\n",
    "hube_data = df[df['生源地'] == '湖北']\n",
    "# 打印湖北省的数据\n",
    "print(hube_data.head())"
   ]
  },
  {
   "cell_type": "code",
   "execution_count": 86,
   "id": "0f3ef5cd",
   "metadata": {},
   "outputs": [
    {
     "name": "stdout",
     "output_type": "stream",
     "text": [
      "\n",
      "湖北省院校标签统计:\n",
      "Index(['综合,民办高校,本科', '理工,省重点,保研,研究生院,公立大学,本科,省重点', '理工,民办高校,本科',\n",
      "       '综合,省属,公立大学,本科', '理工,省属,公立大学,本科', '综合,省重点,保研,研究生院,公立大学,本科,省重点',\n",
      "       '师范,省属,公立大学,本科', '理工,211,双一流,国家重点,保研,研究生院,省部共建,公立大学,本科',\n",
      "       '综合,211,双一流,国家重点,保研,研究生院,省部共建,公立大学,本科', '财经,省属,公立大学,本科',\n",
      "       ...\n",
      "       '医药,985,211,双一流,国家重点,公立大学,本科', '艺术,省属,八大美院,研究生院,公立大学,本科',\n",
      "       '艺术,双一流,国家重点,保研,省部共建,公立大学,本科', '综合,省部共建,公立大学,本科', '艺术,省属,八大美院,公立大学,本科',\n",
      "       '体育,公立大学,本科', '体育,省属,保研,公立大学,本科', '政法,双一流,国家重点,保研,公立大学,本科',\n",
      "       '艺术,省重点,公立大学,本科,省重点', '医药,双一流,国家重点,保研,研究生院,公立大学,本科'],\n",
      "      dtype='object', name='院校基础信息_院校标签', length=249)\n"
     ]
    }
   ],
   "source": [
    "# 院校基础信息_院校标签 为tags，需要处理\n",
    "tags_set = set()\n",
    "def process_tags(tags_str):\n",
    "    if pd.isna(tags_str) or tags_str == \"NaN\":\n",
    "        return []\n",
    "    # 分割标签字符串，去除空格\n",
    "    tags = [tag.strip() for tag in tags_str.split(',') if tag.strip()]\n",
    "    tags_set.update(tags)\n",
    "    return tags\n",
    "# 先看看有哪些标签\n",
    "tags = hube_data['院校基础信息_院校标签'].value_counts()\n",
    "print(\"\\n湖北省院校标签统计:\")\n",
    "print(tags.keys())"
   ]
  },
  {
   "cell_type": "code",
   "execution_count": 87,
   "id": "9804a3af",
   "metadata": {},
   "outputs": [
    {
     "name": "stdout",
     "output_type": "stream",
     "text": [
      "tags_set 中的标签数量: 35 标签内容: {'两电一邮', '985', '101计划', '建筑新八校', '农林', '综合', '八大美院', '国防七子', '语言', '公立大学', '军事', '体育', '政法', '理工', '民族', '省部共建', '211', '民办高校', 'E9', '省重点', '财经', '部委院校', '艺术', '双一流', '师范', '研究生院', '国家重点', '省属', '建筑老八校', '五院四系', '本科', 'C9', '保研', '医药', '其它'}\n",
      "\n",
      "处理后的院校标签列表:\n"
     ]
    },
    {
     "name": "stderr",
     "output_type": "stream",
     "text": [
      "/var/folders/q3/z8wzr94n7g186jst74dr468r0000gn/T/ipykernel_43825/2762831013.py:1: SettingWithCopyWarning: \n",
      "A value is trying to be set on a copy of a slice from a DataFrame.\n",
      "Try using .loc[row_indexer,col_indexer] = value instead\n",
      "\n",
      "See the caveats in the documentation: https://pandas.pydata.org/pandas-docs/stable/user_guide/indexing.html#returning-a-view-versus-a-copy\n",
      "  hube_data['院校基础信息_院校标签_list'] = hube_data['院校基础信息_院校标签'].apply(process_tags)\n"
     ]
    },
    {
     "data": {
      "text/plain": [
       "406    [综合, 985, 211, 双一流, 国家重点, 保研, 研究生院, C9, 建筑老八校,...\n",
       "407    [综合, 985, 211, 双一流, 国家重点, 保研, 研究生院, C9, 建筑老八校,...\n",
       "408    [综合, 985, 211, 双一流, 国家重点, 保研, 研究生院, C9, 建筑老八校,...\n",
       "409    [综合, 985, 211, 双一流, 国家重点, 保研, 研究生院, C9, 建筑老八校,...\n",
       "410    [综合, 985, 211, 双一流, 国家重点, 保研, 研究生院, C9, 建筑老八校,...\n",
       "Name: 院校基础信息_院校标签_list, dtype: object"
      ]
     },
     "execution_count": 87,
     "metadata": {},
     "output_type": "execute_result"
    }
   ],
   "source": [
    "hube_data['院校基础信息_院校标签_list'] = hube_data['院校基础信息_院校标签'].apply(process_tags)\n",
    "print(\"tags_set 中的标签数量:\", len(tags_set), \"标签内容:\", tags_set)\n",
    "print(\"\\n处理后的院校标签列表:\")\n",
    "hube_data['院校基础信息_院校标签_list'].head()"
   ]
  },
  {
   "cell_type": "code",
   "execution_count": 88,
   "id": "7bbe1e80",
   "metadata": {},
   "outputs": [
    {
     "name": "stdout",
     "output_type": "stream",
     "text": [
      "\n",
      "湖北省院校水平统计:\n",
      "Index(['区域知名大学', '区域高水平大学', '世界知名大学,中国高水平大学', '中国知名大学,区域一流大学', '世界知名大学,中国一流大学',\n",
      "       '区域知名大学,独立学院', '世界知名高水平大学,中国顶尖大学', '世界高水平大学,中国顶尖大学', '区域知名大学,民办大学',\n",
      "       '中国顶尖大学,民办大学', '中国高水平大学,民办大学', '区域高水平大学,独立学院', '中国一流大学,民办大学',\n",
      "       '中国一流大学,独立学院', '世界一流大学', '中国顶尖大学,独立学院', '中国高水平大学,独立学院', '区域高水平大学,民办大学',\n",
      "       '中国顶尖大学', '中国高水平大学', '其它', '中国一流大学'],\n",
      "      dtype='object', name='院校基础信息_院校水平')\n"
     ]
    }
   ],
   "source": [
    "# 处理 院校基础信息_院校水平 tags\n",
    "levels_set = set()\n",
    "def process_level(level_str):\n",
    "    if pd.isna(level_str) or level_str == \"NaN\":\n",
    "        return []\n",
    "    # 分割标签字符串，去除空格\n",
    "    levels = [level.strip() for level in level_str.split(',') if level.strip()]\n",
    "    levels_set.update(levels)\n",
    "    return levels\n",
    "# 先看看有哪些院校水平\n",
    "levels = hube_data['院校基础信息_院校水平'].value_counts()\n",
    "print(\"\\n湖北省院校水平统计:\")\n",
    "print(levels.keys())"
   ]
  },
  {
   "cell_type": "code",
   "execution_count": 89,
   "id": "d23330e1",
   "metadata": {},
   "outputs": [
    {
     "name": "stdout",
     "output_type": "stream",
     "text": [
      "levels_set 中的院校水平数量: 14 院校水平内容: {'世界高水平大学', '世界一流大学', '区域一流大学', '民办大学', '中国顶尖大学', '区域知名大学', '中国知名大学', '中国高水平大学', '独立学院', '世界知名高水平大学', '区域高水平大学', '其它', '中国一流大学', '世界知名大学'}\n",
      "\n",
      "处理后的院校水平列表:\n",
      "406    [世界一流大学]\n",
      "407    [世界一流大学]\n",
      "408    [世界一流大学]\n",
      "409    [世界一流大学]\n",
      "410    [世界一流大学]\n",
      "Name: 院校基础信息_院校水平_list, dtype: object\n"
     ]
    },
    {
     "name": "stderr",
     "output_type": "stream",
     "text": [
      "/var/folders/q3/z8wzr94n7g186jst74dr468r0000gn/T/ipykernel_43825/3330060509.py:2: SettingWithCopyWarning: \n",
      "A value is trying to be set on a copy of a slice from a DataFrame.\n",
      "Try using .loc[row_indexer,col_indexer] = value instead\n",
      "\n",
      "See the caveats in the documentation: https://pandas.pydata.org/pandas-docs/stable/user_guide/indexing.html#returning-a-view-versus-a-copy\n",
      "  hube_data['院校基础信息_院校水平_list'] = hube_data['院校基础信息_院校水平'].apply(process_level)\n"
     ]
    }
   ],
   "source": [
    "# 应用处理函数\n",
    "hube_data['院校基础信息_院校水平_list'] = hube_data['院校基础信息_院校水平'].apply(process_level)\n",
    "print(\"levels_set 中的院校水平数量:\", len(levels_set), \"院校水平内容:\", levels_set)\n",
    "print(\"\\n处理后的院校水平列表:\")\n",
    "print(hube_data['院校基础信息_院校水平_list'].head())"
   ]
  },
  {
   "cell_type": "code",
   "execution_count": 90,
   "id": "f29815ef",
   "metadata": {},
   "outputs": [
    {
     "name": "stdout",
     "output_type": "stream",
     "text": [
      "Unique values in '2024年计划数据_学费':\n",
      "\n",
      "Unique non-numeric values found in '2024年计划数据_学费':\n",
      "['待定' '免费' '4000元']\n"
     ]
    }
   ],
   "source": [
    "# Display unique values in the '2024年计划数据_学费' column\n",
    "print(\"Unique values in '2024年计划数据_学费':\")\n",
    "# print(hube_data['2024年计划数据_学费'].unique())\n",
    "\n",
    "# Identify values that are not purely numeric\n",
    "# We can try to convert to numeric and see what fails\n",
    "# pd.to_numeric will turn non-convertible strings into NaN if errors='coerce'\n",
    "non_numeric_fees = hube_data[pd.to_numeric(hube_data['2024年计划数据_学费'], errors='coerce').isna()]['2024年计划数据_学费'].unique()\n",
    "\n",
    "print(\"\\nUnique non-numeric values found in '2024年计划数据_学费':\")\n",
    "print(non_numeric_fees)"
   ]
  },
  {
   "cell_type": "code",
   "execution_count": 91,
   "id": "201b0a96",
   "metadata": {},
   "outputs": [
    {
     "name": "stderr",
     "output_type": "stream",
     "text": [
      "/var/folders/q3/z8wzr94n7g186jst74dr468r0000gn/T/ipykernel_43825/4256863055.py:3: SettingWithCopyWarning: \n",
      "A value is trying to be set on a copy of a slice from a DataFrame.\n",
      "Try using .loc[row_indexer,col_indexer] = value instead\n",
      "\n",
      "See the caveats in the documentation: https://pandas.pydata.org/pandas-docs/stable/user_guide/indexing.html#returning-a-view-versus-a-copy\n",
      "  hube_data['2024年计划数据_学费'] = (\n",
      "/var/folders/q3/z8wzr94n7g186jst74dr468r0000gn/T/ipykernel_43825/4256863055.py:7: SettingWithCopyWarning: \n",
      "A value is trying to be set on a copy of a slice from a DataFrame.\n",
      "Try using .loc[row_indexer,col_indexer] = value instead\n",
      "\n",
      "See the caveats in the documentation: https://pandas.pydata.org/pandas-docs/stable/user_guide/indexing.html#returning-a-view-versus-a-copy\n",
      "  hube_data['2024年计划数据_学费'] = (\n"
     ]
    }
   ],
   "source": [
    "# 替换特殊值，无法转换的待定为空值，使用Int32\n",
    "# ['待定' '免费' '4000元']\n",
    "hube_data['2024年计划数据_学费'] = (\n",
    "    hube_data['2024年计划数据_学费']\n",
    "    .replace({'待定': pd.NA, '免费': '0', '元': ''}, regex=True)\n",
    ")\n",
    "hube_data['2024年计划数据_学费'] = (\n",
    "    pd.to_numeric(hube_data['2024年计划数据_学费'], errors='coerce').astype('Int32')\n",
    ")"
   ]
  },
  {
   "cell_type": "code",
   "execution_count": 93,
   "id": "7fe7d192",
   "metadata": {},
   "outputs": [
    {
     "name": "stdout",
     "output_type": "stream",
     "text": [
      "匹配的列: ['2024年计划数据_计划数', '2024年录取数据_录取最低分', '2024年录取数据_录取最低位次', '2024年录取数据_专业组最低分', '2024年录取数据_专业组最低位次', '2023年录取数据_专业组最低分', '2023年录取数据_专业组最低位次', '2023年录取数据_计划数', '2023年录取数据_最低分', '2023年录取数据_最低位次', '2022年录取数据_计划数', '2022年录取数据_最低分', '2022年录取数据_最低位次', '2021年录取数据_计划数', '2021年录取数据_最低分', '2021年录取数据_最低位次']\n"
     ]
    }
   ],
   "source": [
    "# 找到所有包含指定关键词的列\n",
    "keywords = ['_计划数', '_录取最低分', '_最低分', '_录取最低位次', '_最低位次', '_专业组最低分', '_专业组最低位次']\n",
    "target_columns = [col for col in hube_data.columns if any(k in col for k in keywords)]\n",
    "print(\"匹配的列:\", target_columns)"
   ]
  },
  {
   "cell_type": "code",
   "execution_count": 94,
   "id": "8e56164d",
   "metadata": {},
   "outputs": [
    {
     "name": "stderr",
     "output_type": "stream",
     "text": [
      "/var/folders/q3/z8wzr94n7g186jst74dr468r0000gn/T/ipykernel_43825/3325553097.py:3: SettingWithCopyWarning: \n",
      "A value is trying to be set on a copy of a slice from a DataFrame.\n",
      "Try using .loc[row_indexer,col_indexer] = value instead\n",
      "\n",
      "See the caveats in the documentation: https://pandas.pydata.org/pandas-docs/stable/user_guide/indexing.html#returning-a-view-versus-a-copy\n",
      "  hube_data[col] = pd.to_numeric(hube_data[col], errors='coerce').astype('Int32')\n"
     ]
    }
   ],
   "source": [
    "# 将上面列中数据转换为 Int32 类型, 保留空值\n",
    "for col in target_columns:\n",
    "    hube_data[col] = pd.to_numeric(hube_data[col], errors='coerce').astype('Int32')"
   ]
  },
  {
   "cell_type": "code",
   "execution_count": 97,
   "id": "a036fb47",
   "metadata": {},
   "outputs": [
    {
     "name": "stderr",
     "output_type": "stream",
     "text": [
      "/var/folders/q3/z8wzr94n7g186jst74dr468r0000gn/T/ipykernel_43825/3977574914.py:7: SettingWithCopyWarning: \n",
      "A value is trying to be set on a copy of a slice from a DataFrame.\n",
      "Try using .loc[row_indexer,col_indexer] = value instead\n",
      "\n",
      "See the caveats in the documentation: https://pandas.pydata.org/pandas-docs/stable/user_guide/indexing.html#returning-a-view-versus-a-copy\n",
      "  hube_data['2024年计划数据_新增专业_bool'] = hube_data['2024年计划数据_新增专业'].apply(process_new_major)\n"
     ]
    }
   ],
   "source": [
    "# 处理 2024年计划数据_新增专业 为 bool 类型\n",
    "def process_new_major(new_major_str):\n",
    "    if pd.isna(new_major_str) or new_major_str == \"NaN\":\n",
    "        return False\n",
    "    return new_major_str.strip().lower() in ['新增', 'yes', 'true']\n",
    "\n",
    "hube_data['2024年计划数据_新增专业_bool'] = hube_data['2024年计划数据_新增专业'].apply(process_new_major)"
   ]
  },
  {
   "cell_type": "code",
   "execution_count": 98,
   "id": "ed6b5cdd",
   "metadata": {},
   "outputs": [
    {
     "name": "stdout",
     "output_type": "stream",
     "text": [
      "\n",
      "数据类型检查:\n",
      "id                      int64\n",
      "生源地                    object\n",
      "2024年计划数据_批次           object\n",
      "2024年计划数据_科类           object\n",
      "2024年计划数据_选科限制         object\n",
      "2024年计划数据_院校代码         object\n",
      "2024年计划数据_专业组代码        object\n",
      "2024年计划数据_院校名称         object\n",
      "2024年计划数据_专业代码         object\n",
      "2024年计划数据_专业名称         object\n",
      "2024年计划数据_专业备注         object\n",
      "2024年计划数据_学制           object\n",
      "2024年计划数据_学费            Int32\n",
      "2024年计划数据_计划数           Int32\n",
      "2024年计划数据_新增专业         object\n",
      "2024年录取数据_录取最低分         Int32\n",
      "2024年录取数据_录取最低位次        Int32\n",
      "2024年录取数据_专业组最低分        Int32\n",
      "2024年录取数据_专业组最低位次       Int32\n",
      "2023年录取数据_专业组最低分        Int32\n",
      "2023年录取数据_专业组最低位次       Int32\n",
      "2023年录取数据_计划数           Int32\n",
      "2023年录取数据_最低分           Int32\n",
      "2023年录取数据_最低位次          Int32\n",
      "2022年录取数据_计划数           Int32\n",
      "2022年录取数据_最低分           Int32\n",
      "2022年录取数据_最低位次          Int32\n",
      "2021年录取数据_计划数           Int32\n",
      "2021年录取数据_最低分           Int32\n",
      "2021年录取数据_最低位次          Int32\n",
      "院校基础信息_所在省             object\n",
      "院校基础信息_城市              object\n",
      "院校基础信息_本科/专科           object\n",
      "院校基础信息_隶属单位            object\n",
      "院校基础信息_院校标签            object\n",
      "院校基础信息_类型              object\n",
      "院校基础信息_公私性质            object\n",
      "院校基础信息_院校水平            object\n",
      "选科限制_bit                int64\n",
      "院校基础信息_院校标签_list       object\n",
      "院校基础信息_院校水平_list       object\n",
      "2024年计划数据_新增专业_bool      bool\n",
      "dtype: object\n"
     ]
    }
   ],
   "source": [
    "# 检查data的数据类型\n",
    "print(\"\\n数据类型检查:\")\n",
    "print(hube_data.dtypes)"
   ]
  },
  {
   "cell_type": "code",
   "execution_count": null,
   "id": "606f4b27",
   "metadata": {},
   "outputs": [
    {
     "name": "stdout",
     "output_type": "stream",
     "text": [
      "\n",
      "ClickHouse Create Table Query:\n",
      "\n",
      "CREATE TABLE gaokao_data (\n",
      "    `id` Int32, `source_location` String, `plan_batch` String, `plan_subject_type` String, `plan_subject_restriction_bit` Int32, `plan_school_code` String, `plan_major_group_code` String, `plan_school_name` String, `plan_major_code` String, `plan_major_name` String, `plan_major_remark` Nullable(String), `plan_duration` Nullable(String), `plan_tuition_fee` Nullable(Int32), `admission_2024_plan_count` Int32, `plan_new_major` UInt8, `admission_2024_min_score` Nullable(Int32), `admission_2024_min_rank` Nullable(Int32), `admission_2024_major_group_min_score` Nullable(Int32), `admission_2024_major_group_min_rank` Nullable(Int32), `admission_2023_major_group_min_score` Nullable(Int32), `admission_2023_major_group_min_rank` Nullable(Int32), `admission_2023_plan_count` Nullable(Int32), `admission_2023_min_score` Nullable(Int32), `admission_2023_min_rank` Nullable(Int32), `admission_2022_plan_count` Nullable(Int32), `admission_2022_min_score` Nullable(Int32), `admission_2022_min_rank` Nullable(Int32), `admission_2021_plan_count` Nullable(Int32), `admission_2021_min_score` Nullable(Int32), `admission_2021_min_rank` Nullable(Int32), `school_info_province` Nullable(String), `school_info_city` Nullable(String), `school_info_level` Nullable(String), `school_info_affiliation` Nullable(String), `school_info_tags_list` Array(String), `school_info_public_private` Nullable(String), `school_info_level_list` Array(String)\n",
      ") ENGINE = MergeTree()\n",
      "ORDER BY (id)\n",
      "\n"
     ]
    }
   ],
   "source": [
    "# Assuming your DataFrame is named 'df' and has been processed as per your previous request.\n",
    "# df = ... # Your DataFrame loading and processing code here\n",
    "\n",
    "# Define the columns to select\n",
    "selected_columns = [\n",
    "    'id', '生源地', '2024年计划数据_批次', '2024年计划数据_科类', '选科限制_bit',\n",
    "    '2024年计划数据_院校代码', '2024年计划数据_专业组代码', '2024年计划数据_院校名称', '2024年计划数据_专业代码',\n",
    "    '2024年计划数据_专业名称', '2024年计划数据_专业备注', '2024年计划数据_学制', '2024年计划数据_学费',\n",
    "    '2024年计划数据_计划数', '2024年计划数据_新增专业_bool', '2024年录取数据_录取最低分',\n",
    "    '2024年录取数据_录取最低位次', '2024年录取数据_专业组最低分', '2024年录取数据_专业组最低位次',\n",
    "    '2023年录取数据_专业组最低分', '2023年录取数据_专业组最低位次', '2023年录取数据_计划数',\n",
    "    '2023年录取数据_最低分', '2023年录取数据_最低位次', '2022年录取数据_计划数', '2022年录取数据_最低分',\n",
    "    '2022年录取数据_最低位次', '2021年录取数据_计划数', '2021年录取数据_最低分', '2021年录取数据_最低位次',\n",
    "    '院校基础信息_所在省', '院校基础信息_城市', '院校基础信息_本科/专科', '院校基础信息_隶属单位', \n",
    "    '院校基础信息_院校标签_list', '院校基础信息_公私性质', '院校基础信息_院校水平_list'\n",
    "]\n",
    "\n",
    "# Select the desired columns from the DataFrame\n",
    "# Ensure your DataFrame is named 'final_df' or change the name in the line below\n",
    "df_selected = hube_data[selected_columns].copy() # Use .copy() to avoid SettingWithCopyWarning\n",
    "\n",
    "# Rename columns to be ClickHouse friendly (optional, but good practice)\n",
    "# Example: replace Chinese characters and spaces with underscores\n",
    "rename_map = {\n",
    "    '生源地': 'source_location',\n",
    "    '2024年计划数据_批次': 'plan_batch',\n",
    "    '2024年计划数据_科类': 'plan_subject_type',\n",
    "    '选科限制_bit': 'plan_subject_restriction_bit',\n",
    "    '2024年计划数据_院校代码': 'plan_school_code',\n",
    "    '2024年计划数据_专业组代码': 'plan_major_group_code',\n",
    "    '2024年计划数据_院校名称': 'plan_school_name',\n",
    "    '2024年计划数据_专业代码': 'plan_major_code',\n",
    "    '2024年计划数据_专业名称': 'plan_major_name',\n",
    "    '2024年计划数据_专业备注': 'plan_major_remark',\n",
    "    '2024年计划数据_学制': 'plan_duration',\n",
    "    '2024年计划数据_学费': 'plan_tuition_fee',\n",
    "    '2024年计划数据_计划数': 'admission_2024_plan_count',\n",
    "    '2024年计划数据_新增专业_bool': 'plan_new_major',\n",
    "    '2024年录取数据_录取最低分': 'admission_2024_min_score',\n",
    "    '2024年录取数据_录取最低位次': 'admission_2024_min_rank',\n",
    "    '2024年录取数据_专业组最低分': 'admission_2024_major_group_min_score',\n",
    "    '2024年录取数据_专业组最低位次': 'admission_2024_major_group_min_rank',\n",
    "    '2023年录取数据_专业组最低分': 'admission_2023_major_group_min_score',\n",
    "    '2023年录取数据_专业组最低位次': 'admission_2023_major_group_min_rank',\n",
    "    '2023年录取数据_计划数': 'admission_2023_plan_count',\n",
    "    '2023年录取数据_最低分': 'admission_2023_min_score',\n",
    "    '2023年录取数据_最低位次': 'admission_2023_min_rank',\n",
    "    '2022年录取数据_计划数': 'admission_2022_plan_count',\n",
    "    '2022年录取数据_最低分': 'admission_2022_min_score',\n",
    "    '2022年录取数据_最低位次': 'admission_2022_min_rank',\n",
    "    '2021年录取数据_计划数': 'admission_2021_plan_count',\n",
    "    '2021年录取数据_最低分': 'admission_2021_min_score',\n",
    "    '2021年录取数据_最低位次': 'admission_2021_min_rank',\n",
    "    '院校基础信息_所在省': 'school_info_province',\n",
    "    '院校基础信息_城市': 'school_info_city',\n",
    "    '院校基础信息_本科/专科': 'school_info_level',\n",
    "    '院校基础信息_隶属单位': 'school_info_affiliation',\n",
    "    '院校基础信息_院校标签_list': 'school_info_tags_list',\n",
    "    '院校基础信息_公私性质': 'school_info_public_private',\n",
    "    '院校基础信息_院校水平_list': 'school_info_level_list'\n",
    "}\n",
    "df_selected.rename(columns=rename_map, inplace=True)\n",
    "\n",
    "# Define ClickHouse table name\n",
    "table_name = 'gaokao_data'\n",
    "\n",
    "# Define ClickHouse schema based on DataFrame dtypes and column names\n",
    "# Adjust types as necessary, especially for Nullable fields or specific ClickHouse types\n",
    "# For example, fields that can be empty should be Nullable(String) or Nullable(Int64) etc.\n",
    "# Array types for _list columns.\n",
    "# Define the ClickHouse schema for the given DataFrame\n",
    "schema_parts = []\n",
    "\n",
    "# Iterate through each column of the DataFrame\n",
    "for col_name in df_selected.columns:\n",
    "    dtype = df_selected[col_name].dtype\n",
    "    ch_type = 'String'  # Default to String for non-specific cases\n",
    "    \n",
    "    # Handling integer columns (Int32 or Nullable(Int32) instead of Int64)\n",
    "    if pd.api.types.is_integer_dtype(dtype):\n",
    "        if df_selected[col_name].isnull().any():  # Nullable case\n",
    "            ch_type = 'Nullable(Int32)'  # Changed to Int32 for smaller range\n",
    "        else:\n",
    "            ch_type = 'Int32'  # Changed to Int32 for smaller range\n",
    "    \n",
    "    # Handling float columns (Float64 or Nullable(Float64))\n",
    "    elif pd.api.types.is_float_dtype(dtype):\n",
    "        if df_selected[col_name].isnull().any():  # Nullable case\n",
    "            ch_type = 'Nullable(Float64)'\n",
    "        else:\n",
    "            ch_type = 'Float64'\n",
    "    \n",
    "    # Handling boolean columns (UInt8 or Nullable(UInt8))\n",
    "    elif pd.api.types.is_bool_dtype(dtype):\n",
    "        if df_selected[col_name].isnull().any():  # Nullable case\n",
    "            ch_type = 'Nullable(UInt8)'  # ClickHouse uses UInt8 for boolean\n",
    "        else:\n",
    "            ch_type = 'UInt8'\n",
    "    \n",
    "    # Handling list columns (Array(String) or Array(OtherType))\n",
    "    elif col_name.endswith('_list'):\n",
    "        ch_type = 'Array(String)'  # Assuming the list contains strings; adjust if needed\n",
    "    \n",
    "    # Handling boolean for _bool columns\n",
    "    elif col_name.endswith('_bool'):\n",
    "        if df_selected[col_name].isnull().any():  # Nullable case\n",
    "            ch_type = 'Nullable(UInt8)'\n",
    "        else:\n",
    "            ch_type = 'UInt8'\n",
    "    \n",
    "    # Handling string columns (String or Nullable(String))\n",
    "    elif pd.api.types.is_object_dtype(dtype):\n",
    "        if df_selected[col_name].isnull().any():  # Nullable case\n",
    "            ch_type = 'Nullable(String)'\n",
    "        else:\n",
    "            ch_type = 'String'\n",
    "    \n",
    "    # Append the schema part\n",
    "    schema_parts.append(f\"`{col_name}` {ch_type}\")\n",
    "\n",
    "create_table_query = f\"\"\"\n",
    "CREATE TABLE IF NOT EXISTS {table_name} (\n",
    "    {', '.join(schema_parts)}\n",
    ") ENGINE = MergeTree()\n",
    "ORDER BY (id)\n",
    "\"\"\"\n",
    "print(\"\\nClickHouse Create Table Query:\")\n",
    "print(create_table_query)"
   ]
  },
  {
   "cell_type": "code",
   "execution_count": 138,
   "id": "fcb1b70f",
   "metadata": {},
   "outputs": [],
   "source": [
    "import clickhouse_connect\n",
    "# ClickHouse connection details - MODIFY AS NEEDED\n",
    "client = clickhouse_connect.get_client(host='127.0.0.1', port=18123, username='default', password='vfdeuiclgb') # Add username and password if required"
   ]
  },
  {
   "cell_type": "code",
   "execution_count": null,
   "id": "b9dd33f3",
   "metadata": {},
   "outputs": [
    {
     "name": "stdout",
     "output_type": "stream",
     "text": [
      "Database 'gaokao' exists.\n"
     ]
    }
   ],
   "source": [
    "# 查询是否存在数据库gaokao\n",
    "try:\n",
    "    client.command(\"SELECT 1 FROM system.databases WHERE name = 'gaokao'\")\n",
    "    print(\"Database 'gaokao' exists.\")\n",
    "except Exception as e:\n",
    "    print(f\"Database 'gaokao' does not exist: {e}\")"
   ]
  },
  {
   "cell_type": "code",
   "execution_count": null,
   "id": "392776bb",
   "metadata": {},
   "outputs": [
    {
     "name": "stdout",
     "output_type": "stream",
     "text": [
      "Database 'gaokao' created or already exists.\n"
     ]
    },
    {
     "data": {
      "text/plain": [
       "<clickhouse_connect.driver.summary.QuerySummary at 0x3072c1890>"
      ]
     },
     "execution_count": 141,
     "metadata": {},
     "output_type": "execute_result"
    }
   ],
   "source": [
    "try:\n",
    "    client.command(f\"CREATE DATABASE IF NOT EXISTS gaokao\")\n",
    "    print(\"Database 'gaokao' created or already exists.\")\n",
    "except Exception as e:\n",
    "    print(f\"Error creating database: {e}\")\n",
    "# 切换到 gaokao 数据库\n",
    "client.command(\"USE gaokao\")"
   ]
  },
  {
   "cell_type": "code",
   "execution_count": 143,
   "id": "df7e5cdf",
   "metadata": {},
   "outputs": [
    {
     "data": {
      "text/plain": [
       "<clickhouse_connect.driver.summary.QuerySummary at 0x3072d56d0>"
      ]
     },
     "execution_count": 143,
     "metadata": {},
     "output_type": "execute_result"
    }
   ],
   "source": [
    "# 删除表\n",
    "drop_table_query = f\"DROP TABLE IF EXISTS {table_name};\"\n",
    "client.command(drop_table_query)"
   ]
  },
  {
   "cell_type": "code",
   "execution_count": 129,
   "id": "ebeae836",
   "metadata": {},
   "outputs": [
    {
     "name": "stdout",
     "output_type": "stream",
     "text": [
      "Index 0: Type=<class 'int'>, Value=8064481\n",
      "Index 1: Type=<class 'str'>, Value=湖北\n",
      "Index 2: Type=<class 'str'>, Value=本科批\n",
      "Index 3: Type=<class 'str'>, Value=物理\n",
      "Index 4: Type=<class 'int'>, Value=0\n",
      "Index 5: Type=<class 'str'>, Value=A00304\n",
      "Index 6: Type=<class 'str'>, Value=04\n",
      "Index 7: Type=<class 'str'>, Value=清华大学\n",
      "Index 8: Type=<class 'str'>, Value=08\n",
      "Index 9: Type=<class 'str'>, Value=社会科学试验班\n",
      "Index 10: Type=<class 'str'>, Value=(至善书院；经济学、社会学)\n",
      "Index 11: Type=<class 'float'>, Value=nan\n",
      "Index 12: Type=<class 'int'>, Value=5000\n",
      "Index 13: Type=<class 'int'>, Value=1\n",
      "Index 14: Type=<class 'bool'>, Value=False\n",
      "Index 15: Type=<class 'pandas._libs.missing.NAType'>, Value=<NA>\n",
      "Index 16: Type=<class 'pandas._libs.missing.NAType'>, Value=<NA>\n",
      "Index 17: Type=<class 'int'>, Value=692\n",
      "Index 18: Type=<class 'int'>, Value=71\n",
      "Index 19: Type=<class 'int'>, Value=693\n",
      "Index 20: Type=<class 'int'>, Value=85\n",
      "Index 21: Type=<class 'int'>, Value=1\n",
      "Index 22: Type=<class 'pandas._libs.missing.NAType'>, Value=<NA>\n",
      "Index 23: Type=<class 'pandas._libs.missing.NAType'>, Value=<NA>\n",
      "Index 24: Type=<class 'int'>, Value=1\n",
      "Index 25: Type=<class 'int'>, Value=676\n",
      "Index 26: Type=<class 'int'>, Value=101\n",
      "Index 27: Type=<class 'int'>, Value=1\n",
      "Index 28: Type=<class 'pandas._libs.missing.NAType'>, Value=<NA>\n",
      "Index 29: Type=<class 'pandas._libs.missing.NAType'>, Value=<NA>\n",
      "Index 30: Type=<class 'str'>, Value=北京\n",
      "Index 31: Type=<class 'str'>, Value=北京海淀区\n",
      "Index 32: Type=<class 'str'>, Value=本科\n",
      "Index 33: Type=<class 'str'>, Value=教育部\n",
      "Index 34: Type=<class 'list'>, Value=['综合', '985', '211', '双一流', '国家重点', '保研', '研究生院', 'C9', '建筑老八校', '省部共建', '101计划', '公立大学', '本科']\n",
      "Index 35: Type=<class 'str'>, Value=公办\n",
      "Index 36: Type=<class 'list'>, Value=['世界一流大学']\n"
     ]
    }
   ],
   "source": [
    "row = df_selected.values[0].tolist()\n",
    "for i, v in enumerate(row):\n",
    "    print(f\"Index {i}: Type={type(v)}, Value={v}\")"
   ]
  },
  {
   "cell_type": "code",
   "execution_count": 144,
   "id": "83e6f259",
   "metadata": {},
   "outputs": [
    {
     "name": "stdout",
     "output_type": "stream",
     "text": [
      "Table 'gaokao_data' created or already exists.\n",
      "准备插入 18430 条数据到表 'gaokao_data'.\n",
      "[8064481, '湖北', '本科批', '物理', 0, 'A00304', '04', '清华大学', '08', '社会科学试验班', '(至善书院；经济学、社会学)', None, 5000, 1, False, None, None, 692, 71, 693, 85, 1, None, None, 1, 676, 101, 1, None, None, '北京', '北京海淀区', '本科', '教育部', ['综合', '985', '211', '双一流', '国家重点', '保研', '研究生院', 'C9', '建筑老八校', '省部共建', '101计划', '公立大学', '本科'], '公办', ['世界一流大学']]\n",
      "Batch 1 插入成功.\n",
      "[8068862, '湖北', '本科批', '物理', 6, 'F09508', '08', '天津医科大学', '13', '麻醉学', '(色盲、色弱考生不予录取；办学地点：气象台路校区)(学制：五年)', None, 5800, 1, False, None, None, 623, 8760, 635, 6817, 1, None, None, 1, 610, 5640, None, None, None, '天津', '天津和平区', '本科', '市政府', ['医药', '211', '双一流', '国家重点', '保研', '研究生院', '公立大学', '本科'], '公办', ['世界知名大学', '中国高水平大学']]\n",
      "Batch 2 插入成功.\n",
      "[8066360, '湖北', '本科批', '物理', 2, 'A19104', '04', '西北农林科技大学', '11', '数学与应用数学', None, None, 6600, 2, False, None, None, 605, 15356, 609, 15469, 2, 615, 13191, None, None, None, None, None, None, '陕西', '陕西咸阳市', '本科', '教育部', ['农林', '985', '211', '双一流', '国家重点', '保研', '研究生院', '省部共建', '101计划', '公立大学', '本科'], '公办', ['世界知名大学', '中国一流大学']]\n",
      "Batch 3 插入成功.\n",
      "[8075798, '湖北', '本科批', '物理', 2, 'K34509', '09', '云南大学', '29', '材料科学与工程', '(办学地点：呈贡校区)', None, 4500, 4, False, None, None, 595, 20005, 601, 18474, 4, 598, 20215, 3, 570, 18755, 4, 594, 18900, '云南', '云南昆明市', '本科', '省政府', ['综合', '211', '双一流', '国家重点', '保研', '研究生院', '省部共建', '101计划', '公立大学', '本科'], '公办', ['世界知名大学', '中国一流大学']]\n",
      "Batch 4 插入成功.\n",
      "[8068798, '湖北', '本科批', '物理', 2, 'F09204', '04', '天津工业大学', '14', '非织造材料与工程', None, None, 5400, 2, False, None, None, 586, 24681, 590, 23984, 2, 591, 23490, 2, 559, 24706, 2, 583, 23866, '天津', '天津西青区', '本科', '市政府', ['综合', '双一流', '省重点', '保研', '研究生院', '省部共建', '公立大学', '本科', '省重点'], '公办', ['中国知名大学', '区域一流大学']]\n",
      "Batch 5 插入成功.\n",
      "[8062653, '湖北', '本科批', '历史', 0, 'H32402', '02', '江西财经大学', '04', '法学', '(数据法学；跨学科交叉专业)', None, 4660, 1, True, None, None, 576, 4923, 563, 6572, None, None, None, None, None, None, None, None, None, '江西', '江西南昌市', '本科', '省政府', ['财经', '省重点', '保研', '研究生院', '省部共建', '公立大学', '本科', '省重点'], '公办', ['世界知名大学', '中国高水平大学']]\n",
      "Batch 6 插入成功.\n",
      "[8067486, '湖北', '本科批', '物理', 0, 'C13004', '04', '湖北工业大学', '33', '国际经济与贸易', None, None, 4500, 5, False, None, None, 565, 38007, 558, 41506, 11, 565, 37310, 10, 542, 34452, 5, None, None, '湖北', '湖北武汉市', '本科', '省政府', ['理工', '省重点', '保研', '研究生院', '公立大学', '本科', '省重点'], '公办', ['区域高水平大学']]\n",
      "Batch 7 插入成功.\n",
      "[8066934, '湖北', '本科批', '物理', 2, 'C10611', '11', '三峡大学', '55', '电气工程及其自动化', None, None, 5850, 95, False, None, None, 556, 44326, 554, 44071, 92, 597, 20672, 146, 558, 25239, None, None, None, '湖北', '湖北宜昌市', '本科', '省政府', ['综合', '省重点', '保研', '研究生院', '公立大学', '本科', '省重点'], '公办', ['区域高水平大学']]\n",
      "Batch 8 插入成功.\n",
      "[8059223, '湖北', '本科批', '物理', 2, 'C10908', '08', '武汉工程大学', 'B0', '机械设计制造及其自动化', '(国家专项计划)(智能制造方向)', None, 5850, 2, False, None, None, 546, 51834, 550, 46527, 2, None, None, 2, 537, 37555, None, None, None, '湖北', '湖北武汉市', '本科', '省政府', ['理工', '省属', '保研', '研究生院', '公立大学', '本科'], '公办', ['区域高水平大学']]\n",
      "Batch 9 插入成功.\n",
      "[8069759, '湖北', '本科批', '物理', 0, 'F30602', '02', '山西财经大学', '13', '市场营销', '(办学地点：迎泽校区)', None, 5100, 1, False, None, None, 537, 58872, 529, 60122, 1, 533, 57499, 1, 509, 56739, 1, 523, 55382, '山西', '山西太原市', '本科', '省政府', ['财经', '保研', '公立大学', '本科'], '公办', ['区域高水平大学']]\n",
      "Batch 10 插入成功.\n",
      "[8061035, '湖北', '本科批', '历史', 0, 'C13301', '01', '湖北师范大学', '12', '应用心理学', None, None, 4000, 18, False, None, None, 528, 14431, 520, 15480, 11, 522, 14972, 10, 524, 14456, 25, 549, 16711, '湖北', '湖北黄石市', '本科', '省政府', ['师范', '省属', '研究生院', '公立大学', '本科'], '公办', ['区域知名大学']]\n",
      "Batch 11 插入成功.\n",
      "[8075705, '湖北', '本科批', '物理', 2, 'K25709', '09', '贵州医科大学', '09', '药学', '(中外合作办学)(色弱、色盲、单色不能识别不能报考该专业。考生高考外语语种为英语，且英语单科成绩不低于英语单科满分的50%。请仔细阅读《贵州医科大学2024年普通本科招生章程》后填报；办学地点：云漫湖校区)', None, 24000, 2, False, None, None, 520, 72786, 524, 63434, 3, 524, 63434, 3, 503, 60994, 1, None, None, '贵州', '贵州贵阳市', '本科', '省政府', ['医药', '省重点', '保研', '研究生院', '公立大学', '本科', '省重点'], '公办', ['区域高水平大学']]\n",
      "Batch 12 插入成功.\n",
      "[8076574, '湖北', '本科批', '物理', 2, 'K58401', '01', '甘肃医学院', '02', '儿科学', '(学制：五年)', None, 4600, 1, False, None, None, 510, 81046, 497, 81403, 1, 497, 81403, None, None, None, None, None, None, '甘肃', '甘肃平凉市', '本科', '省政府', ['医药', '省属', '公立大学', '本科'], '公办', ['区域知名大学']]\n",
      "Batch 13 插入成功.\n",
      "[8059854, '湖北', '本科批', '物理', 0, 'C13104', '04', '湖北汽车工业学院', '37', '工业工程', '(地方专项计划)(汽车产业)', None, 5200, 5, True, None, None, 499, 90312, 478, 93886, None, None, None, None, None, None, None, None, None, '湖北', '湖北十堰市', '本科', '省政府', ['理工', '省属', '研究生院', '公立大学', '本科'], '公办', ['区域知名大学']]\n",
      "Batch 14 插入成功.\n",
      "[8076954, '湖北', '本科批', '物理', 0, 'K78205', '05', '新疆科技学院', '10', '人力资源管理', '(办学地点：东校区)', None, 3200, 3, False, None, None, 490, 97720, 470, 99157, 6, 470, 99157, 4, 450, 98248, 2, None, None, '新疆', '新疆巴音郭楞蒙古自治州', '本科', '自治区政府', ['财经', '省属', '公立大学', '本科'], '公办', ['区域知名大学', '独立学院']]\n",
      "Batch 15 插入成功.\n",
      "[8071891, '湖北', '本科批', '物理', 2, 'H13301', '01', '宿州学院', '05', '食品科学与工程', None, None, 4900, 3, False, None, None, 483, 103610, 481, 91884, 3, 481, 91884, 3, 459, 91957, 2, 470, 82456, '安徽', '安徽宿州市', '本科', '省政府', ['综合', '省属', '公立大学', '本科'], '公办', ['区域知名大学']]\n",
      "Batch 16 插入成功.\n",
      "[8061336, '湖北', '本科批', '历史', 0, 'C22001', '01', '三峡大学科技学院', '12', '旅游管理', '(办学地点：新校区)', None, 15000, 33, False, None, None, 468, 32024, 457, 35555, 35, 457, 35555, 43, 463, 36918, 43, 491, 41168, '湖北', '湖北宜昌市', '本科', '省教育厅', ['综合', '民办高校', '本科'], '民办', ['区域高水平大学']]\n",
      "Batch 17 插入成功.\n",
      "[8074218, '湖北', '本科批', '物理', 2, 'H73602', '02', '湖南应用技术学院', '06', '机械电子工程', None, None, 22300, 1, False, None, None, 449, 131004, 449, 113211, 1, None, None, 1, 432, 111105, 1, None, None, '湖南', '湖南常德市', '本科', '省教育厅', ['综合', '民办高校', '本科'], '民办', ['区域知名大学', '民办大学']]\n",
      "Batch 18 插入成功.\n",
      "[8062512, '湖北', '本科批', '历史', 0, 'H27201', '01', '阳光学院', '01', '法学', '(办学地点：福州新区滨海校区)', None, 31000, 4, False, None, None, 433, 44827, 427, 48140, 4, None, None, 4, 436, 49388, None, None, None, '福建', '福建福州市', '本科', '省教育厅', ['综合', '民办高校', '本科'], '民办', ['区域知名大学', '民办大学']]\n",
      "Batch 19 插入成功.\n",
      "ClickHouse 操作已完成。\n"
     ]
    }
   ],
   "source": [
    "import ast\n",
    "\n",
    "def process_data_for_insert(df: pd.DataFrame):\n",
    "    # 处理数据，确保与 ClickHouse 表匹配\n",
    "    data_to_insert = []\n",
    "    for row in df.values.tolist():\n",
    "        processed_row = []\n",
    "        for i, value in enumerate(row):\n",
    "            col_name = df.columns[i]\n",
    "            if value is pd.NA or isinstance(value, float) and pd.isna(value):\n",
    "                processed_row.append(None)\n",
    "            elif col_name.endswith('_list'):\n",
    "                # 如果是_list类型，确保值是列表\n",
    "                if isinstance(value, str):\n",
    "                    try:\n",
    "                        processed_row.append(ast.literal_eval(value) if value else [])\n",
    "                    except (ValueError, SyntaxError):\n",
    "                        processed_row.append([])\n",
    "                elif isinstance(value, list):\n",
    "                    processed_row.append([str(item) for item in value])\n",
    "                else:\n",
    "                    processed_row.append([])\n",
    "            else:\n",
    "                processed_row.append(value)\n",
    "        data_to_insert.append(processed_row)\n",
    "    \n",
    "    return data_to_insert\n",
    "\n",
    "\n",
    "def insert_data_in_batches(client, table_name, df: pd.DataFrame, batch_size=1000):\n",
    "    # 处理数据并进行插入\n",
    "    processed_data = process_data_for_insert(df)\n",
    "    print(f\"准备插入 {len(processed_data)} 条数据到表 '{table_name}'.\")\n",
    "    # 按批次插入数据\n",
    "    for start in range(0, len(processed_data), batch_size):\n",
    "        end = min(start + batch_size, len(processed_data))\n",
    "        batch = processed_data[start:end]\n",
    "        print(batch[0])\n",
    "        # 插入数据\n",
    "        client.insert(table_name, batch, column_names=list(df.columns))\n",
    "        print(f\"Batch {start // batch_size + 1} 插入成功.\")\n",
    "\n",
    "    client.close()\n",
    "    print(\"ClickHouse 操作已完成。\")\n",
    "\n",
    "# 创建表（如果不存在）\n",
    "client.command(create_table_query)\n",
    "print(f\"Table '{table_name}' created or already exists.\")\n",
    "# 使用方法：\n",
    "insert_data_in_batches(client, 'gaokao_data', df_selected, batch_size=1000)\n"
   ]
  },
  {
   "cell_type": "code",
   "execution_count": null,
   "id": "6b7b7ada",
   "metadata": {},
   "outputs": [],
   "source": []
  }
 ],
 "metadata": {
  "kernelspec": {
   "display_name": "webPrinter",
   "language": "python",
   "name": "python3"
  },
  "language_info": {
   "codemirror_mode": {
    "name": "ipython",
    "version": 3
   },
   "file_extension": ".py",
   "mimetype": "text/x-python",
   "name": "python",
   "nbconvert_exporter": "python",
   "pygments_lexer": "ipython3",
   "version": "3.11.11"
  }
 },
 "nbformat": 4,
 "nbformat_minor": 5
}
